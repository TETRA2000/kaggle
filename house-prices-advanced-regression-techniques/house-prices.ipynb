{
 "cells": [
  {
   "cell_type": "code",
   "execution_count": null,
   "metadata": {},
   "outputs": [],
   "source": []
  }
 ],
 "metadata": {
  "interpreter": {
   "hash": "df28b8c4e67c8daa2d62a4ef607e8be77292c73761cda5769a7f306b5585baf2"
  },
  "kernelspec": {
   "display_name": "Python 3.9.9 64-bit ('kaggle-sR-ZZX-I': pipenv)",
   "language": "python",
   "name": "python3"
  },
  "language_info": {
   "name": "python",
   "version": "3.9.9"
  },
  "orig_nbformat": 4
 },
 "nbformat": 4,
 "nbformat_minor": 2
}
